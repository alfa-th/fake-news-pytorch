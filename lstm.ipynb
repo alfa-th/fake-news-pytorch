{
 "cells": [
  {
   "cell_type": "code",
   "execution_count": 4,
   "source": [
    "import torch \r\n",
    "import torch.nn as nn\r\n",
    "import torch.optim as optim\r\n",
    "\r\n",
    "from tqdm import tqdm\r\n",
    "\r\n",
    "from pytorch.dataloader import get_dataloaders\r\n",
    "from pytorch.lstm import LSTM"
   ],
   "outputs": [],
   "metadata": {}
  },
  {
   "cell_type": "code",
   "execution_count": 3,
   "source": [
    "device = torch.device(\"cpu\")\r\n",
    "base_df_dir = \"./data/\""
   ],
   "outputs": [],
   "metadata": {}
  },
  {
   "cell_type": "code",
   "execution_count": 4,
   "source": [
    "BS = 32\r\n",
    "\r\n",
    "train_iter, valid_iter, test_iter = get_dataloaders(base_df_dir, BS, device)"
   ],
   "outputs": [
    {
     "output_type": "stream",
     "name": "stderr",
     "text": [
      "100%|██████████| 4029/4029 [00:01<00:00, 3014.77it/s]\n"
     ]
    }
   ],
   "metadata": {}
  },
  {
   "cell_type": "code",
   "execution_count": 17,
   "source": [
    "def train(\r\n",
    "    model,\r\n",
    "    optimizer,\r\n",
    "    criterion=nn.BCELoss(),\r\n",
    "    train_loader=train_iter,\r\n",
    "    valid_loader=valid_iter,\r\n",
    "    num_epochs=5,\r\n",
    "    eval_every=5,\r\n",
    "):\r\n",
    "  run_loss = 0.0\r\n",
    "  valid_run_loss = 0.0\r\n",
    "  global_step = 0\r\n",
    "  train_loss_list = []\r\n",
    "  valid_loss_list = []\r\n",
    "  global_step_list = []\r\n",
    "  ave_train_loss = None\r\n",
    "  ave_valid_loss = None\r\n",
    "\r\n",
    "  model.train()\r\n",
    "  for epoch in range(num_epochs):\r\n",
    "    with tqdm(train_loader, unit=\"batch\") as tbatch:\r\n",
    "      for labels, titletext, titletext_len in tbatch:\r\n",
    "        tbatch.set_description(f\"Epoch {epoch}\")\r\n",
    "\r\n",
    "        output = model(titletext, titletext_len)\r\n",
    "        loss = criterion(output, labels)\r\n",
    "\r\n",
    "        optimizer.zero_grad()\r\n",
    "        loss.backward()\r\n",
    "        optimizer.step()\r\n",
    "\r\n",
    "        run_loss += loss.item()\r\n",
    "        global_step += 1\r\n",
    "\r\n",
    "        tbatch.set_postfix(step=f\"{ global_step }/{(num_epochs * len(train_loader)) }\",\r\n",
    "                           train_loss=ave_train_loss,\r\n",
    "                           valid_loss=ave_valid_loss)\r\n",
    "\r\n",
    "        if global_step % eval_every == 0:\r\n",
    "          model.eval()\r\n",
    "          with torch.no_grad():\r\n",
    "            for labels, titletext, titletext_len in valid_loader:\r\n",
    "              labels = labels.to(device)\r\n",
    "              titletext = titletext.to(device)\r\n",
    "              titletext_len = titletext_len.to(device)\r\n",
    "\r\n",
    "              output = model(titletext, titletext_len)\r\n",
    "              loss = criterion(output, labels)\r\n",
    "\r\n",
    "              valid_run_loss += loss.item()\r\n",
    "\r\n",
    "          ave_train_loss = run_loss / eval_every\r\n",
    "          ave_valid_loss = run_loss / len(valid_loader)\r\n",
    "          train_loss_list.append(ave_train_loss)\r\n",
    "          valid_loss_list.append(ave_valid_loss)\r\n",
    "          global_step_list.append(global_step)\r\n",
    "\r\n",
    "          run_loss, valid_run_loss = 0.0, 0.0\r\n",
    "\r\n",
    "          model.train()\r\n",
    "          tbatch.set_postfix(step=f\"{ global_step }/{(num_epochs * len(train_loader)) }\",\r\n",
    "                             train_loss=loss.item(),\r\n",
    "                             valid_loss=ave_valid_loss)\r\n",
    "\r\n",
    "  print(\"Finished training\")\r\n",
    "\r\n",
    "\r\n",
    "model = LSTM(vocab=vocab).to(device)\r\n",
    "optimizer = optim.Adam(model.parameters(), lr=1e-3)\r\n",
    "\r\n",
    "train(model=model, optimizer=optimizer, num_epochs=10)\r\n"
   ],
   "outputs": [
    {
     "output_type": "stream",
     "name": "stderr",
     "text": [
      "Epoch 0:   5%|▍         | 6/126 [01:24<28:11, 14.10s/batch, step=6/1260, train_loss=0.681, valid_loss=0.106]"
     ]
    }
   ],
   "metadata": {}
  },
  {
   "cell_type": "code",
   "execution_count": null,
   "source": [],
   "outputs": [],
   "metadata": {}
  },
  {
   "cell_type": "code",
   "execution_count": null,
   "source": [
    "state_dict = {\r\n",
    "  \"model_state_dict\": model.state_dict(),\r\n",
    "  \"optimizer_state_dict\": optimizer.state_dict(),\r\n",
    "}\r\n",
    "\r\n",
    "torch.save(state_dict, \"../common-data/fake-news/\")"
   ],
   "outputs": [],
   "metadata": {}
  }
 ],
 "metadata": {
  "orig_nbformat": 4,
  "language_info": {
   "name": "python",
   "version": "3.7.6",
   "mimetype": "text/x-python",
   "codemirror_mode": {
    "name": "ipython",
    "version": 3
   },
   "pygments_lexer": "ipython3",
   "nbconvert_exporter": "python",
   "file_extension": ".py"
  },
  "kernelspec": {
   "name": "python3",
   "display_name": "Python 3.7.6 64-bit"
  },
  "interpreter": {
   "hash": "b21f954a467df7c68612b09bb9acf4e7c404e490bba3fc0474b60a91347c9dbb"
  }
 },
 "nbformat": 4,
 "nbformat_minor": 2
}